{
 "cells": [
  {
   "cell_type": "code",
   "execution_count": null,
   "metadata": {
    "collapsed": true
   },
   "outputs": [],
   "source": [
    "# from https://youtu.be/prawh45iggA\n",
    "import cv2"
   ]
  },
  {
   "cell_type": "code",
   "execution_count": null,
   "metadata": {
    "collapsed": true
   },
   "outputs": [],
   "source": [
    "# Reading image\n",
    "img = cv2.imread('tiger.png', -1)   # 0 read image as gray scale, 1 = read in color mode, -1 = read image as it is\n"
   ]
  },
  {
   "cell_type": "code",
   "execution_count": null,
   "metadata": {},
   "outputs": [],
   "source": [
    "# display in screen\n",
    "cv2.imshow('tiger', img)\n",
    "k=cv2.waitKey(0) & 0xFF    #Hold image until a key to press 0Xff = read the last byte \n",
    "if k==27:\n",
    "    cv2.destroyAllWindows()  # close all display windows\n",
    "elif k==ord('s'):  # wait for 's' to be pressed\n",
    "    cv2.imwrite('tigergray.png', img)    # Save Image\n",
    "    cv2.destroyAllWindows()"
   ]
  },
  {
   "cell_type": "code",
   "execution_count": null,
   "metadata": {
    "collapsed": true
   },
   "outputs": [],
   "source": []
  }
 ],
 "metadata": {
  "kernelspec": {
   "display_name": "Python 3",
   "language": "python",
   "name": "python3"
  },
  "language_info": {
   "codemirror_mode": {
    "name": "ipython",
    "version": 3
   },
   "file_extension": ".py",
   "mimetype": "text/x-python",
   "name": "python",
   "nbconvert_exporter": "python",
   "pygments_lexer": "ipython3",
   "version": "3.5.4"
  }
 },
 "nbformat": 4,
 "nbformat_minor": 2
}
